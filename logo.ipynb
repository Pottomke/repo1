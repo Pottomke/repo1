{
  "nbformat": 4,
  "nbformat_minor": 0,
  "metadata": {
    "colab": {
      "name": "logo.ipynb",
      "provenance": [],
      "collapsed_sections": [],
      "authorship_tag": "ABX9TyOWYNqn3c7bYCZViPTJ80Og",
      "include_colab_link": true
    },
    "kernelspec": {
      "name": "python3",
      "display_name": "Python 3"
    },
    "language_info": {
      "name": "python"
    }
  },
  "cells": [
    {
      "cell_type": "markdown",
      "metadata": {
        "id": "view-in-github",
        "colab_type": "text"
      },
      "source": [
        "<a href=\"https://colab.research.google.com/github/Pottomke/repo1/blob/master/logo.ipynb\" target=\"_parent\"><img src=\"https://colab.research.google.com/assets/colab-badge.svg\" alt=\"Open In Colab\"/></a>"
      ]
    },
    {
      "cell_type": "code",
      "execution_count": 2,
      "metadata": {
        "colab": {
          "base_uri": "https://localhost:8080/"
        },
        "id": "6ri64DfMkjBX",
        "outputId": "f18d7e34-a82e-4c66-c950-093e069028cb"
      },
      "outputs": [
        {
          "output_type": "stream",
          "name": "stdout",
          "text": [
            "Image written to file-system :  True\n"
          ]
        }
      ],
      "source": [
        "import cv2\n",
        "import numpy as np\n",
        "\n",
        "image = cv2.imread('logo.png')\n",
        "h, w = image.shape[:2]\n",
        "\n",
        "sum_B=0\n",
        "sum_G=0\n",
        "sum_R=0\n",
        "\n",
        "for i in range(h):\n",
        "  for j in range(w):\n",
        "    (B, G, R) = image[i, j]\n",
        "    sum_B+=(B, G, R)[0]\n",
        "    sum_G+=(B, G, R)[1]\n",
        "    sum_R+=(B, G, R)[2]\n",
        "\n",
        "avg_B=sum_B/(w*h)\n",
        "avg_G=sum_G/(w*h)\n",
        "avg_R=sum_R/(w*h) \n",
        "\n",
        "blank_image = np.zeros((h,w,3), np.uint8)\n",
        "blank_image[:,0:w] = (avg_B,avg_G,avg_R)\n",
        "\n",
        "status = cv2.imwrite('logo2.png',blank_image)\n",
        "print(\"Image written to file-system : \",status)"
      ]
    },
    {
      "cell_type": "code",
      "source": [
        "#Ha a feketét ki akarjuk venni az átlagolásból\n",
        "import cv2\n",
        "import numpy as np\n",
        "\n",
        "image = cv2.imread('logo.png')\n",
        "h, w = image.shape[:2]\n",
        "\n",
        "sum_B=0\n",
        "sum_G=0\n",
        "sum_R=0\n",
        "counter=0\n",
        "\n",
        "for i in range(h):\n",
        "  for j in range(w):\n",
        "    (B, G, R) = image[i, j]\n",
        "    if B!=0 and G !=0 and R !=0:\n",
        "      counter+=1\n",
        "      sum_B+=(B, G, R)[0]\n",
        "      sum_G+=(B, G, R)[1]\n",
        "      sum_R+=(B, G, R)[2]\n",
        "\n",
        "avg_B=sum_B/(counter)\n",
        "avg_G=sum_G/(counter)\n",
        "avg_R=sum_R/(counter) \n",
        "\n",
        "blank_image = np.zeros((h,w,3), np.uint8)\n",
        "blank_image[:,0:w] = (avg_B,avg_G,avg_R)\n",
        "\n",
        "status = cv2.imwrite('logo3.png',blank_image)\n",
        "print(\"Image written to file-system : \",status)"
      ],
      "metadata": {
        "id": "QXlz52KqlTr1",
        "colab": {
          "base_uri": "https://localhost:8080/"
        },
        "outputId": "56c279e5-18f5-410b-f471-65cb0344faa8"
      },
      "execution_count": 4,
      "outputs": [
        {
          "output_type": "stream",
          "name": "stdout",
          "text": [
            "Image written to file-system :  True\n"
          ]
        }
      ]
    },
    {
      "cell_type": "code",
      "source": [
        ""
      ],
      "metadata": {
        "id": "Y8fnalIKgZAz"
      },
      "execution_count": null,
      "outputs": []
    }
  ]
}